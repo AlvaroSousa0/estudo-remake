{
 "cells": [
  {
   "cell_type": "code",
   "execution_count": 1,
   "id": "386220ce-5c38-42b9-b702-8933670c35f1",
   "metadata": {},
   "outputs": [
    {
     "name": "stdout",
     "output_type": "stream",
     "text": [
      "[1, 2, 3, 4, 5, 6]\n"
     ]
    }
   ],
   "source": [
    "lista = [1,2,3,4,5,6]\n",
    "print(lista)"
   ]
  },
  {
   "cell_type": "code",
   "execution_count": 2,
   "id": "760c4839-f701-4b15-89c7-1d7099102417",
   "metadata": {},
   "outputs": [
    {
     "data": {
      "text/plain": [
       "[1, 2, 3, 4, 5, 6]"
      ]
     },
     "execution_count": 2,
     "metadata": {},
     "output_type": "execute_result"
    }
   ],
   "source": [
    "lista"
   ]
  },
  {
   "cell_type": "code",
   "execution_count": 3,
   "id": "54b78cf1-01fc-40f0-a4bd-e8962e9cab6d",
   "metadata": {},
   "outputs": [],
   "source": [
    "a = 4\n",
    "b = 2\n"
   ]
  },
  {
   "cell_type": "code",
   "execution_count": 6,
   "id": "99d940f0-ee1b-429d-a873-a5a9166fc550",
   "metadata": {},
   "outputs": [
    {
     "name": "stdout",
     "output_type": "stream",
     "text": [
      "6\n"
     ]
    }
   ],
   "source": [
    "print(a + b)"
   ]
  },
  {
   "cell_type": "markdown",
   "id": "5a9100e0-9a03-4918-8a10-5ef9325bfe8f",
   "metadata": {},
   "source": [
    "#Este é meu título\n",
    "Este é meu texto\n",
    "##Este é meu subtítulo\n",
    " °1 ponto\n",
    " °2 ponto\n",
    " °3 ponto"
   ]
  },
  {
   "cell_type": "code",
   "execution_count": 5,
   "id": "2d80d94d-607c-4df9-b3ce-b3c249ef9c3d",
   "metadata": {},
   "outputs": [
    {
     "data": {
      "text/html": [
       "<p> Um <strong> texto </strong> qualquer </p>\n"
      ],
      "text/plain": [
       "<IPython.core.display.HTML object>"
      ]
     },
     "metadata": {},
     "output_type": "display_data"
    }
   ],
   "source": [
    "%%HTML\n",
    "<p> Um <strong> texto </strong> qualquer </p>"
   ]
  },
  {
   "cell_type": "code",
   "execution_count": null,
   "id": "5855dc25-38fb-45d8-b17a-93e65932edfd",
   "metadata": {},
   "outputs": [],
   "source": []
  }
 ],
 "metadata": {
  "kernelspec": {
   "display_name": "Python 3 (ipykernel)",
   "language": "python",
   "name": "python3"
  },
  "language_info": {
   "codemirror_mode": {
    "name": "ipython",
    "version": 3
   },
   "file_extension": ".py",
   "mimetype": "text/x-python",
   "name": "python",
   "nbconvert_exporter": "python",
   "pygments_lexer": "ipython3",
   "version": "3.10.12"
  }
 },
 "nbformat": 4,
 "nbformat_minor": 5
}
